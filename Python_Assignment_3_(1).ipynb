{
  "cells": [
    {
      "cell_type": "code",
      "execution_count": null,
      "metadata": {
        "id": "NbOPGQwRP_5g"
      },
      "outputs": [],
      "source": [
        "1. check Maximum number of a list of numbers in Python\n",
        "2. Python Program for factorial of a number\n",
        "3. Python Program for simple interest\n",
        "4. Python Program for compound interest\n",
        "5. Python Program to check Armstrong Number\n",
        "6. Python Program for Program to find area of a circle\n",
        "7. Python program to print all Prime numbers in an Interval\n",
        "8. Python program to check whether a number is Prime or not\n",
        "9. Python Program for n-th Fibonacci number\n",
        "10. Python Program for How to check if a given number is Fibonacci number?\n",
        "11. Python Program for n\\’th multiple of a number in Fibonacci Series\n",
        "12. Python Program for Sum of squares of first n natural numbers\n",
        "13. Python Program for cube sum of first n natural numbers"
      ]
    },
    {
      "cell_type": "code",
      "execution_count": 5,
      "metadata": {
        "colab": {
          "base_uri": "https://localhost:8080/"
        },
        "id": "Q5HRGic7_Rno",
        "outputId": "2bfeaa31-cfeb-48f1-9627-fb3fb5dd3960"
      },
      "outputs": [
        {
          "output_type": "stream",
          "name": "stdout",
          "text": [
            "51\n"
          ]
        }
      ],
      "source": [
        "#1.check maximum number of list of numbers in pyhton.\n",
        "a=[29,51,33,45] #define the list\n",
        "print(max(a)) #using max function to get the maximum element from the list"
      ]
    },
    {
      "cell_type": "code",
      "execution_count": 8,
      "metadata": {
        "colab": {
          "base_uri": "https://localhost:8080/"
        },
        "id": "SKyiwiE__Rnp",
        "outputId": "5be64e79-db9c-4b54-ccf8-1c6141c8298b"
      },
      "outputs": [
        {
          "output_type": "stream",
          "name": "stdout",
          "text": [
            "Enter a number : 5\n",
            "120\n"
          ]
        }
      ],
      "source": [
        "#2.pyhton program for factorial of a number\n",
        "a=int(input(\"Enter a number : \")) #input program for enter a number\n",
        "fact=1 #define the multiplicative identity to get the factorial\n",
        "for n in range(1,a+1): #using for loop to get the fact variable updated and calculated till the last number which user enetered\n",
        "    fact=fact*n #using for update the factorial\n",
        "print(fact) #printing the final value of factorial of given number\n"
      ]
    },
    {
      "cell_type": "code",
      "execution_count": 7,
      "metadata": {
        "colab": {
          "base_uri": "https://localhost:8080/"
        },
        "id": "6U0Y9US7_Rnp",
        "outputId": "d0f60164-f4a3-43d7-8e47-14692bc8c423"
      },
      "outputs": [
        {
          "output_type": "stream",
          "name": "stdout",
          "text": [
            "enter the principal for simple intrest100\n",
            "enter the time for simple intrest2\n",
            "enter the rate of intrest for simple intrest5\n",
            "simple intrest is : $ 10.0\n"
          ]
        }
      ],
      "source": [
        "#3. Python Program for simple interest\n",
        "def simple_intrest(p,t,r): #define a liabrary\n",
        "    si=(p*t*r)/100\n",
        "    return si #return statement for define liabrary\n",
        "principal=float(input(\"enter the principal for simple intrest\"))\n",
        "time=float(input(\"enter the time for simple intrest\"))\n",
        "rate=float(input(\"enter the rate of intrest for simple intrest\"))\n",
        "intrest=simple_intrest(principal,time,rate) #calculate simple intrest using a defined liabrary\n",
        "print(\"simple intrest is : $\",intrest) #print function\n"
      ]
    },
    {
      "cell_type": "code",
      "execution_count": 6,
      "metadata": {
        "colab": {
          "base_uri": "https://localhost:8080/"
        },
        "id": "DFrjZE1i_Rnq",
        "outputId": "52e50968-47c5-4088-aed3-00cc888137ee"
      },
      "outputs": [
        {
          "output_type": "stream",
          "name": "stdout",
          "text": [
            "Enter the principal amount: 100\n",
            "Enter the annual interest rate (in %): 5\n",
            "Enter the number of times the interest is compounded per year: 2\n",
            "Enter the number of years the money is invested or borrowed for: 1000\n",
            "The amount of money accumulated after 1000 years, including interest, is: 280369510595984265052160.00\n",
            "The interest earned is: 280369510595984265052160.00\n"
          ]
        }
      ],
      "source": [
        "#4. Python Program for compound interest\n",
        "def calculate_compound_interest(principal, rate, times_compounded, years):\n",
        "    rate = rate / 100 # Convert the annual rate from percentage to decimal\n",
        "    amount = principal * (1 + rate / times_compounded) ** (times_compounded * years) #Calculate compound interest\n",
        "    interest = amount - principal # Calculate the interest earned\n",
        "    return amount, interest\n",
        "# Input values\n",
        "P = float(input(\"Enter the principal amount: \"))\n",
        "r = float(input(\"Enter the annual interest rate (in %): \"))\n",
        "n = int(input(\"Enter the number of times the interest is compounded per year: \"))\n",
        "t = int(input(\"Enter the number of years the money is invested or borrowed for: \"))\n",
        "amount, interest = calculate_compound_interest(P, r, n, t) # Calculate compound interest\n",
        "\n",
        "print(f\"The amount of money accumulated after {t} years, including interest, is: {amount:.2f}\")\n",
        "print(f\"The interest earned is: {interest:.2f}\")\n"
      ]
    },
    {
      "cell_type": "code",
      "execution_count": null,
      "metadata": {
        "id": "tv-YrpPF_Rnr",
        "outputId": "3d98cddf-27ca-4473-c1f7-bc676909c524"
      },
      "outputs": [
        {
          "name": "stdout",
          "output_type": "stream",
          "text": [
            "24 is not an Armstrong number.\n"
          ]
        }
      ],
      "source": [
        "#5. Python Program to check Armstrong Number\n",
        "def is_armstrong_number(number):\n",
        "    num_str = str(number) # Convert the number to a string to easily iterate over digits\n",
        "    num_digits = len(num_str)  # Calculate the number of digits\n",
        "    sum_of_powers = 0  # Initialize sum of powers\n",
        "    for digit in num_str:\n",
        "        sum_of_powers += int(digit) ** num_digits # Calculate the sum of each digit raised to the power of num_digits\n",
        "    return sum_of_powers == number #the sum of powers is equal to the original number\n",
        "\n",
        "number = int(input(\"Enter a number: \")) # Input from the user\n",
        "\n",
        "if is_armstrong_number(number):\n",
        "    print(f\"{number} is an Armstrong number.\")\n",
        "else:\n",
        "    print(f\"{number} is not an Armstrong number.\") # Check if the number is an Armstrong number\n"
      ]
    },
    {
      "cell_type": "code",
      "execution_count": null,
      "metadata": {
        "id": "4MsWx0k0_Rnr",
        "outputId": "b8d93507-1949-4d5d-9273-2e54943339aa"
      },
      "outputs": [
        {
          "name": "stdout",
          "output_type": "stream",
          "text": [
            "the area of the circle is : 154.0\n"
          ]
        }
      ],
      "source": [
        "#6. Python Program for Program to find area of a circle\n",
        "def area_of_circle(radius):\n",
        "    area=22/7*radius*radius #calculate area formula\n",
        "    return area\n",
        "r=float(input(\"enter the radius of circle : \")) #input statement for user\n",
        "a=area_of_circle(r) #call the liabrary to use it\n",
        "print(f\"the area of the circle is :\",a) #output statement"
      ]
    },
    {
      "cell_type": "code",
      "execution_count": null,
      "metadata": {
        "id": "nGXpCndd_Rns",
        "outputId": "90edd152-4020-417a-fde0-514787755250"
      },
      "outputs": [
        {
          "name": "stdout",
          "output_type": "stream",
          "text": [
            "Prime numbers between 1 and 100 are: 2\n",
            "3\n",
            "5\n",
            "7\n",
            "11\n",
            "13\n",
            "17\n",
            "19\n",
            "23\n",
            "29\n",
            "31\n",
            "37\n",
            "41\n",
            "43\n",
            "47\n",
            "53\n",
            "59\n",
            "61\n",
            "67\n",
            "71\n",
            "73\n",
            "79\n",
            "83\n",
            "89\n",
            "97\n"
          ]
        }
      ],
      "source": [
        "#7. Python program to print all Prime numbers in an Interval\n",
        "def is_prime(n):\n",
        "    \"\"\"Check if a number is prime.\"\"\"\n",
        "    if n <= 1:\n",
        "        return False\n",
        "    if n <= 3:\n",
        "        return True\n",
        "    if n % 2 == 0 or n % 3 == 0:\n",
        "        return False\n",
        "    i = 5\n",
        "    while i * i <= n:\n",
        "        if n % i == 0 or n % (i + 2) == 0:\n",
        "            return False\n",
        "        i += 6\n",
        "    return True\n",
        "\n",
        "def print_primes_in_interval(start, end):\n",
        "    \"\"\"Print all prime numbers in the interval [start, end].\"\"\"\n",
        "    for num in range(start, end + 1):\n",
        "        if is_prime(num):\n",
        "            print(num)\n",
        "\n",
        "# Input the interval from the user\n",
        "start = int(input(\"Enter the start of the interval: \"))\n",
        "end = int(input(\"Enter the end of the interval: \"))\n",
        "\n",
        "# Print all prime numbers in the interval\n",
        "print(f\"Prime numbers between {start} and {end} are:\")\n",
        "print_primes_in_interval(start, end)\n"
      ]
    },
    {
      "cell_type": "code",
      "execution_count": 9,
      "metadata": {
        "colab": {
          "base_uri": "https://localhost:8080/"
        },
        "id": "o-hds0V6_Rns",
        "outputId": "0f0adf3e-faf7-43f1-a273-4c37f09939e8"
      },
      "outputs": [
        {
          "output_type": "stream",
          "name": "stdout",
          "text": [
            "Enter a number: 127\n",
            "127 is a prime number.\n"
          ]
        }
      ],
      "source": [
        "#8. Python program to check whether a number is Prime or not\n",
        "def is_prime(n):\n",
        "    #heck if a number is prime.\n",
        "    if n <= 1:\n",
        "        return False\n",
        "    if n <= 3:\n",
        "        return True\n",
        "    if n % 2 == 0 or n % 3 == 0:\n",
        "        return False\n",
        "    i = 5\n",
        "    while i * i <= n:\n",
        "        if n % i == 0 or n % (i + 2) == 0:\n",
        "            return False\n",
        "        i += 6\n",
        "    return True\n",
        "\n",
        "# Input from the user\n",
        "number = int(input(\"Enter a number: \"))\n",
        "\n",
        "# Check if the number is prime\n",
        "if is_prime(number):\n",
        "    print(f\"{number} is a prime number.\")\n",
        "else:\n",
        "    print(f\"{number} is not a prime number.\")\n"
      ]
    },
    {
      "cell_type": "code",
      "execution_count": null,
      "metadata": {
        "id": "MhWOBy7D_Rnt"
      },
      "outputs": [],
      "source": [
        "#10. Python Program for How to check if a given number is Fibonacci number?\n"
      ]
    },
    {
      "cell_type": "code",
      "execution_count": null,
      "metadata": {
        "id": "oiXFbQ_I_Rnt"
      },
      "outputs": [],
      "source": [
        "#11.Python Program for n\\’th multiple of a number in Fibonacci Series"
      ]
    },
    {
      "cell_type": "code",
      "execution_count": 2,
      "metadata": {
        "colab": {
          "base_uri": "https://localhost:8080/"
        },
        "id": "yDcqYNnh_Rnu",
        "outputId": "d4cf0406-ce10-4da0-a6ca-6663692e90f7"
      },
      "outputs": [
        {
          "output_type": "stream",
          "name": "stdout",
          "text": [
            "Enter a positive integer: 5\n",
            "The sum of the squares of the first 5 natural numbers is: 55.0\n"
          ]
        }
      ],
      "source": [
        "#12. Python Program for Sum of squares of first n natural numbers\n",
        "def sum_of_squares(n):\n",
        "    return n * (n + 1) * (2 * n + 1) /6 #Calculate the sum of squares of the first n natural numbers using the formula.\n",
        "\n",
        "n = int(input(\"Enter a positive integer: \"))# User Input\n",
        "# Calculate the sum of squares using the formula\n",
        "sum_squares = sum_of_squares(n)\n",
        "print(f\"The sum of the squares of the first {n} natural numbers is: {sum_squares}\")\n"
      ]
    },
    {
      "cell_type": "code",
      "execution_count": 1,
      "metadata": {
        "colab": {
          "base_uri": "https://localhost:8080/"
        },
        "id": "72OAlHcl_Rnu",
        "outputId": "8d318e92-1484-4a89-b95b-fde00c15c8bc"
      },
      "outputs": [
        {
          "output_type": "stream",
          "name": "stdout",
          "text": [
            "Enter a positive integer: 50\n",
            "The sum of the cubes of the first 50 natural numbers is: 1625625\n"
          ]
        }
      ],
      "source": [
        "#13.Python Program for cube sum of first n natural numbers\n",
        "def sum_of_cubes(n):\n",
        "    #Calculate the sum of cubes of the first n natural numbers using the formula.\n",
        "    sum_n = n * (n + 1) // 2\n",
        "    return sum_n * sum_n\n",
        "# Input from the user\n",
        "n = int(input(\"Enter a positive integer: \"))\n",
        "# Calculate the sum of cubes using the formula\n",
        "sum_cubes = sum_of_cubes(n)\n",
        "print(f\"The sum of the cubes of the first {n} natural numbers is: {sum_cubes}\")\n"
      ]
    },
    {
      "cell_type": "code",
      "execution_count": null,
      "metadata": {
        "id": "sE55GAtu_Rnu"
      },
      "outputs": [],
      "source": []
    }
  ],
  "metadata": {
    "colab": {
      "provenance": []
    },
    "kernelspec": {
      "display_name": "Python 3",
      "name": "python3"
    },
    "language_info": {
      "codemirror_mode": {
        "name": "ipython",
        "version": 3
      },
      "file_extension": ".py",
      "mimetype": "text/x-python",
      "name": "python",
      "nbconvert_exporter": "python",
      "pygments_lexer": "ipython3",
      "version": "3.12.4"
    }
  },
  "nbformat": 4,
  "nbformat_minor": 0
}