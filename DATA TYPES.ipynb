{
 "cells": [
  {
   "cell_type": "code",
   "execution_count": 1,
   "id": "cce51c93-1010-47ca-9c90-8819ff2278df",
   "metadata": {},
   "outputs": [
    {
     "data": {
      "text/plain": [
       "str"
      ]
     },
     "execution_count": 1,
     "metadata": {},
     "output_type": "execute_result"
    }
   ],
   "source": [
    "a=\"10\"\n",
    "type(a)"
   ]
  },
  {
   "cell_type": "code",
   "execution_count": 2,
   "id": "b1b76c4a-90e0-4a8e-a4ca-bc5f64aa1db2",
   "metadata": {},
   "outputs": [
    {
     "data": {
      "text/plain": [
       "int"
      ]
     },
     "execution_count": 2,
     "metadata": {},
     "output_type": "execute_result"
    }
   ],
   "source": [
    "a=10\n",
    "type(a)\n"
   ]
  },
  {
   "cell_type": "code",
   "execution_count": 6,
   "id": "6be2d5ca-deaf-4ba9-8778-a929f8c29e71",
   "metadata": {},
   "outputs": [
    {
     "data": {
      "text/plain": [
       "1"
      ]
     },
     "execution_count": 6,
     "metadata": {},
     "output_type": "execute_result"
    }
   ],
   "source": [
    "a=True\n",
    "type(True)\n",
    "int(True)"
   ]
  },
  {
   "cell_type": "code",
   "execution_count": 7,
   "id": "fe260bb8-7017-4bc5-bef2-48f68d4f6fd8",
   "metadata": {},
   "outputs": [
    {
     "data": {
      "text/plain": [
       "2.4000000000000004"
      ]
     },
     "execution_count": 7,
     "metadata": {},
     "output_type": "execute_result"
    }
   ],
   "source": [
    "a=1.1\n",
    "b=1.3\n",
    "a+b"
   ]
  },
  {
   "cell_type": "code",
   "execution_count": 10,
   "id": "2373b40f-14cb-41a1-851f-2e0b2b6c0c27",
   "metadata": {},
   "outputs": [
    {
     "data": {
      "text/plain": [
       "complex"
      ]
     },
     "execution_count": 10,
     "metadata": {},
     "output_type": "execute_result"
    }
   ],
   "source": [
    "x=1+2j\n",
    "type(x)"
   ]
  },
  {
   "cell_type": "code",
   "execution_count": 11,
   "id": "b1d9b255-01a0-45cd-ac42-ad3993e1a164",
   "metadata": {},
   "outputs": [
    {
     "data": {
      "text/plain": [
       "2.0"
      ]
     },
     "execution_count": 11,
     "metadata": {},
     "output_type": "execute_result"
    }
   ],
   "source": [
    "x=1+2j\n",
    "x.real\n",
    "x.imag"
   ]
  },
  {
   "cell_type": "code",
   "execution_count": 13,
   "id": "2b30942d-2617-4017-82bd-8a0cb4385a9f",
   "metadata": {},
   "outputs": [
    {
     "data": {
      "text/plain": [
       "str"
      ]
     },
     "execution_count": 13,
     "metadata": {},
     "output_type": "execute_result"
    }
   ],
   "source": [
    "a='sita'\n",
    "type(a)"
   ]
  },
  {
   "cell_type": "code",
   "execution_count": 14,
   "id": "640b1a52-4ffd-4e5c-94b3-1c1982b6bfbb",
   "metadata": {},
   "outputs": [
    {
     "data": {
      "text/plain": [
       "720"
      ]
     },
     "execution_count": 14,
     "metadata": {},
     "output_type": "execute_result"
    }
   ],
   "source": [
    "a=\"720\"\n",
    "int(a)"
   ]
  },
  {
   "cell_type": "code",
   "execution_count": 15,
   "id": "fc6f618a-7e5b-4c9e-8fff-68dde3c9c8da",
   "metadata": {},
   "outputs": [
    {
     "name": "stdout",
     "output_type": "stream",
     "text": [
      "my \"laptop\"\n"
     ]
    }
   ],
   "source": [
    "print('my \"laptop\"')"
   ]
  },
  {
   "cell_type": "code",
   "execution_count": 4,
   "id": "07cfb773-3ef5-4766-a875-ab50e2be2b45",
   "metadata": {},
   "outputs": [
    {
     "name": "stdout",
     "output_type": "stream",
     "text": [
      "her's \"laptop\"\n"
     ]
    }
   ],
   "source": [
    "print('her\\'s \"laptop\"')"
   ]
  },
  {
   "cell_type": "code",
   "execution_count": 5,
   "id": "382fe398-468a-4feb-8604-f336f5f9e27b",
   "metadata": {},
   "outputs": [
    {
     "name": "stdout",
     "output_type": "stream",
     "text": [
      "goodmorning\n"
     ]
    }
   ],
   "source": [
    "a=\"good\"\n",
    "b=\"morning\"\n",
    "print(a+b)"
   ]
  },
  {
   "cell_type": "code",
   "execution_count": 7,
   "id": "b279eb1d-36a7-433d-9097-d55555968da5",
   "metadata": {},
   "outputs": [
    {
     "data": {
      "text/plain": [
       "'1002'"
      ]
     },
     "execution_count": 7,
     "metadata": {},
     "output_type": "execute_result"
    }
   ],
   "source": [
    "x=\"100\"\n",
    "y=\"2\"\n",
    "x+y"
   ]
  },
  {
   "cell_type": "code",
   "execution_count": 8,
   "id": "368e0a41-fc75-4698-b1fb-3af05bf84c72",
   "metadata": {},
   "outputs": [
    {
     "data": {
      "text/plain": [
       "3"
      ]
     },
     "execution_count": 8,
     "metadata": {},
     "output_type": "execute_result"
    }
   ],
   "source": [
    "len(x)"
   ]
  },
  {
   "cell_type": "code",
   "execution_count": 9,
   "id": "32d74927-33a3-4f18-9fe6-76435bd97461",
   "metadata": {},
   "outputs": [
    {
     "name": "stdout",
     "output_type": "stream",
     "text": [
      "hello\n"
     ]
    }
   ],
   "source": [
    "s1=\"hello\"\n",
    "print(s1[0: :1])"
   ]
  },
  {
   "cell_type": "code",
   "execution_count": 10,
   "id": "de629d86-0f3d-4e9f-b486-acc31e534944",
   "metadata": {},
   "outputs": [
    {
     "data": {
      "text/plain": [
       "'Good afternoon'"
      ]
     },
     "execution_count": 10,
     "metadata": {},
     "output_type": "execute_result"
    }
   ],
   "source": [
    "a=\"good afternoon\"\n",
    "a.capitalize()"
   ]
  },
  {
   "cell_type": "code",
   "execution_count": 11,
   "id": "d31abded-e2ba-4b2d-99d9-d61c30e9a4ba",
   "metadata": {},
   "outputs": [
    {
     "data": {
      "text/plain": [
       "'GOOD AFTERNOON'"
      ]
     },
     "execution_count": 11,
     "metadata": {},
     "output_type": "execute_result"
    }
   ],
   "source": [
    "a.upper()"
   ]
  },
  {
   "cell_type": "code",
   "execution_count": 12,
   "id": "c485c5ed-6aa4-4501-b63f-db61067fe242",
   "metadata": {},
   "outputs": [
    {
     "data": {
      "text/plain": [
       "'good afternoon'"
      ]
     },
     "execution_count": 12,
     "metadata": {},
     "output_type": "execute_result"
    }
   ],
   "source": [
    "a.lower()"
   ]
  },
  {
   "cell_type": "code",
   "execution_count": 16,
   "id": "c65a66b3-9d20-4104-89f5-a1dbf2a5a58c",
   "metadata": {},
   "outputs": [
    {
     "data": {
      "text/plain": [
       "['akankshyadas2003', 'gmail.com']"
      ]
     },
     "execution_count": 16,
     "metadata": {},
     "output_type": "execute_result"
    }
   ],
   "source": [
    "f=\"akankshyadas2003@gmail.com\"\n",
    "f.split('@')\n"
   ]
  },
  {
   "cell_type": "code",
   "execution_count": 24,
   "id": "a180f89f-3ee2-4baf-8b43-bb600cea007e",
   "metadata": {},
   "outputs": [
    {
     "data": {
      "text/plain": [
       "1"
      ]
     },
     "execution_count": 24,
     "metadata": {},
     "output_type": "execute_result"
    }
   ],
   "source": [
    "a=\"gphbbkfbfvskbvsrkbv\"\n",
    "a.count(\"g\")"
   ]
  },
  {
   "cell_type": "code",
   "execution_count": 26,
   "id": "e539b718-7ff1-48b2-abae-200066312405",
   "metadata": {},
   "outputs": [],
   "source": [
    "a=\"bad weather\"\n",
    "b=a.replace(\"good\",\"bad\")"
   ]
  },
  {
   "cell_type": "code",
   "execution_count": null,
   "id": "11a33f65-029c-4026-bfc7-57d6d318c573",
   "metadata": {},
   "outputs": [],
   "source": []
  },
  {
   "cell_type": "code",
   "execution_count": null,
   "id": "c6ec9f01-a7c5-4c54-aaa7-7b88e16329f4",
   "metadata": {},
   "outputs": [],
   "source": []
  },
  {
   "cell_type": "code",
   "execution_count": null,
   "id": "e85d0971-999b-462e-a71a-daf1806958a5",
   "metadata": {},
   "outputs": [],
   "source": []
  },
  {
   "cell_type": "code",
   "execution_count": null,
   "id": "1caece2d-6323-402a-a17b-b4b40a89f1b0",
   "metadata": {},
   "outputs": [],
   "source": []
  }
 ],
 "metadata": {
  "kernelspec": {
   "display_name": "Python 3 (ipykernel)",
   "language": "python",
   "name": "python3"
  },
  "language_info": {
   "codemirror_mode": {
    "name": "ipython",
    "version": 3
   },
   "file_extension": ".py",
   "mimetype": "text/x-python",
   "name": "python",
   "nbconvert_exporter": "python",
   "pygments_lexer": "ipython3",
   "version": "3.11.7"
  }
 },
 "nbformat": 4,
 "nbformat_minor": 5
}
