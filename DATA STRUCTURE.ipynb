{
 "cells": [
  {
   "cell_type": "markdown",
   "id": "7c6b3157-0b81-4701-bcf8-08211b01a126",
   "metadata": {},
   "source": [
    "LIST"
   ]
  },
  {
   "cell_type": "code",
   "execution_count": 1,
   "id": "b04d65f5-3800-4eda-980e-ecd225ab2e26",
   "metadata": {},
   "outputs": [
    {
     "data": {
      "text/plain": [
       "[1, 2, 3]"
      ]
     },
     "execution_count": 1,
     "metadata": {},
     "output_type": "execute_result"
    }
   ],
   "source": [
    "a=[1,2,3]\n",
    "a"
   ]
  },
  {
   "cell_type": "code",
   "execution_count": 2,
   "id": "7da9bcea-0bca-4d65-a0ac-da0c4035b324",
   "metadata": {},
   "outputs": [
    {
     "data": {
      "text/plain": [
       "list"
      ]
     },
     "execution_count": 2,
     "metadata": {},
     "output_type": "execute_result"
    }
   ],
   "source": [
    "type(a)"
   ]
  },
  {
   "cell_type": "code",
   "execution_count": 5,
   "id": "3a67b73a-74d2-4f00-af92-8702e5274cff",
   "metadata": {},
   "outputs": [
    {
     "name": "stdout",
     "output_type": "stream",
     "text": [
      "4\n"
     ]
    }
   ],
   "source": [
    "a=[[1,2],[3,4],3,5]\n",
    "print(len(a))"
   ]
  },
  {
   "cell_type": "code",
   "execution_count": 6,
   "id": "b0a3f1a9-6cdd-46d0-ad5c-7cce463975b9",
   "metadata": {},
   "outputs": [
    {
     "name": "stdout",
     "output_type": "stream",
     "text": [
      "[[1, 2], [3, 4], 3, 5]\n"
     ]
    }
   ],
   "source": [
    "a=[[1,2],[3,4],3,5]\n",
    "print(a)"
   ]
  },
  {
   "cell_type": "code",
   "execution_count": 9,
   "id": "1b626d54-731b-4cc5-b55b-1ee2b874c16b",
   "metadata": {},
   "outputs": [
    {
     "name": "stdout",
     "output_type": "stream",
     "text": [
      "100\n"
     ]
    }
   ],
   "source": [
    "lst=[100,20,30]\n",
    "print(lst[0])"
   ]
  },
  {
   "cell_type": "code",
   "execution_count": 10,
   "id": "e41ce696-2a64-4873-b97e-bd87da181be0",
   "metadata": {},
   "outputs": [
    {
     "name": "stdout",
     "output_type": "stream",
     "text": [
      "[50, 40, 30, 20, 10]\n"
     ]
    }
   ],
   "source": [
    "num1=[10,20,30,40,50]\n",
    "print(num1[ : : -1])"
   ]
  },
  {
   "cell_type": "code",
   "execution_count": 11,
   "id": "91fe5349-7ccf-4e80-9928-079aecb369c9",
   "metadata": {},
   "outputs": [
    {
     "data": {
      "text/plain": [
       "4"
      ]
     },
     "execution_count": 11,
     "metadata": {},
     "output_type": "execute_result"
    }
   ],
   "source": [
    "lst=[1,2,3,[5,6]]\n",
    "len(lst)"
   ]
  },
  {
   "cell_type": "code",
   "execution_count": 12,
   "id": "95bd2a65-3432-4a28-b70d-680b8aa80ceb",
   "metadata": {},
   "outputs": [
    {
     "data": {
      "text/plain": [
       "['happy', 'a', 'b', 'sad', 'd', 'b']"
      ]
     },
     "execution_count": 12,
     "metadata": {},
     "output_type": "execute_result"
    }
   ],
   "source": [
    "a=[\"happy\",'a','b']\n",
    "b=[\"sad\",'d','b']\n",
    "a+b"
   ]
  },
  {
   "cell_type": "code",
   "execution_count": 14,
   "id": "1fc719c5-ba4c-488b-909f-955a180284d8",
   "metadata": {},
   "outputs": [
    {
     "name": "stdout",
     "output_type": "stream",
     "text": [
      "['c', 'b', 'a']\n"
     ]
    }
   ],
   "source": [
    "lst=['a','b','c']\n",
    "lst.reverse()\n",
    "print(lst)"
   ]
  },
  {
   "cell_type": "code",
   "execution_count": 15,
   "id": "3f118f81-9102-45a5-a972-de62120a9148",
   "metadata": {},
   "outputs": [
    {
     "data": {
      "text/plain": [
       "[1, 2, 3, 4, 5, 6, 7, 8, 9]"
      ]
     },
     "execution_count": 15,
     "metadata": {},
     "output_type": "execute_result"
    }
   ],
   "source": [
    "num1=[9,8,7,6,5,4,3,2,1]\n",
    "sorted(num1)"
   ]
  },
  {
   "cell_type": "code",
   "execution_count": 16,
   "id": "a11994b3-e9d5-4f34-a877-ed8362b302f2",
   "metadata": {},
   "outputs": [
    {
     "name": "stdout",
     "output_type": "stream",
     "text": [
      "2\n"
     ]
    }
   ],
   "source": [
    "a=[1,2,3,1,2,3]\n",
    "print(a.count(2))"
   ]
  },
  {
   "cell_type": "code",
   "execution_count": 19,
   "id": "5308625c-0194-453c-922c-1ae818fd07ee",
   "metadata": {},
   "outputs": [
    {
     "name": "stdout",
     "output_type": "stream",
     "text": [
      "[1, 2, 3, 4, 5, 6, 7, 9]\n"
     ]
    }
   ],
   "source": [
    "l1=[1,2,3,4,5,6,7]\n",
    "l2=l1\n",
    "l2.append(9)\n",
    "print(l1)"
   ]
  },
  {
   "cell_type": "code",
   "execution_count": 1,
   "id": "28efb863-795a-4531-824a-44a3274ea5c8",
   "metadata": {},
   "outputs": [
    {
     "data": {
      "text/plain": [
       "('hello', 2, (10, 20))"
      ]
     },
     "execution_count": 1,
     "metadata": {},
     "output_type": "execute_result"
    }
   ],
   "source": [
    "tup=('hello',2,(10,20))\n",
    "tup"
   ]
  },
  {
   "cell_type": "code",
   "execution_count": 2,
   "id": "53b34fad-1f1f-4cf0-a9cd-a4d8c1790b10",
   "metadata": {},
   "outputs": [
    {
     "data": {
      "text/plain": [
       "3"
      ]
     },
     "execution_count": 2,
     "metadata": {},
     "output_type": "execute_result"
    }
   ],
   "source": [
    "len(tup)"
   ]
  },
  {
   "cell_type": "code",
   "execution_count": 3,
   "id": "23e30788-93c7-4181-924a-76c244607c96",
   "metadata": {},
   "outputs": [
    {
     "data": {
      "text/plain": [
       "2"
      ]
     },
     "execution_count": 3,
     "metadata": {},
     "output_type": "execute_result"
    }
   ],
   "source": [
    "tup[1]"
   ]
  },
  {
   "cell_type": "code",
   "execution_count": 4,
   "id": "8773826e-2816-4cba-bc8d-d0ff6d7396db",
   "metadata": {},
   "outputs": [
    {
     "data": {
      "text/plain": [
       "(10, 20)"
      ]
     },
     "execution_count": 4,
     "metadata": {},
     "output_type": "execute_result"
    }
   ],
   "source": [
    "tup[-1]"
   ]
  },
  {
   "cell_type": "code",
   "execution_count": 5,
   "id": "439fb698-8379-46a3-acc0-d5aec9315bcf",
   "metadata": {},
   "outputs": [
    {
     "data": {
      "text/plain": [
       "((10, 20), 2, 'hello')"
      ]
     },
     "execution_count": 5,
     "metadata": {},
     "output_type": "execute_result"
    }
   ],
   "source": [
    "tup[: : -1]"
   ]
  },
  {
   "cell_type": "code",
   "execution_count": 7,
   "id": "f9e0f9cf-dc12-4bd2-9676-bdd5dcc51b27",
   "metadata": {},
   "outputs": [
    {
     "data": {
      "text/plain": [
       "((10, 20),)"
      ]
     },
     "execution_count": 7,
     "metadata": {},
     "output_type": "execute_result"
    }
   ],
   "source": [
    "tup[2: : 1]"
   ]
  },
  {
   "cell_type": "code",
   "execution_count": 8,
   "id": "cafb691e-389a-41ed-a725-13f50c44211c",
   "metadata": {},
   "outputs": [
    {
     "data": {
      "text/plain": [
       "1"
      ]
     },
     "execution_count": 8,
     "metadata": {},
     "output_type": "execute_result"
    }
   ],
   "source": [
    "tup.count(2)"
   ]
  },
  {
   "cell_type": "code",
   "execution_count": 10,
   "id": "e6cb5556-6c0b-4bbc-96dc-2fbd7110c5f5",
   "metadata": {},
   "outputs": [
    {
     "data": {
      "text/plain": [
       "0"
      ]
     },
     "execution_count": 10,
     "metadata": {},
     "output_type": "execute_result"
    }
   ],
   "source": [
    "tup.index('hello')"
   ]
  },
  {
   "cell_type": "code",
   "execution_count": 1,
   "id": "7ee0de81-399f-43f4-9f71-382aeb11a327",
   "metadata": {},
   "outputs": [
    {
     "data": {
      "text/plain": [
       "[10, 26, 35, 55]"
      ]
     },
     "execution_count": 1,
     "metadata": {},
     "output_type": "execute_result"
    }
   ],
   "source": [
    "a=(10,35,26,55)\n",
    "sorted(a)"
   ]
  },
  {
   "cell_type": "code",
   "execution_count": 2,
   "id": "f9a552da-59c2-4914-b3ea-08978440a105",
   "metadata": {},
   "outputs": [
    {
     "name": "stdout",
     "output_type": "stream",
     "text": [
      "{1, 2, 3, 4, 7, 9}\n"
     ]
    }
   ],
   "source": [
    "a={1,2,3,4,7,9}\n",
    "print(a)"
   ]
  },
  {
   "cell_type": "code",
   "execution_count": 3,
   "id": "7a93c84f-3a36-4b44-82bf-1d3c0cae3d42",
   "metadata": {},
   "outputs": [
    {
     "name": "stdout",
     "output_type": "stream",
     "text": [
      "[1, 2, 3, 4]\n"
     ]
    }
   ],
   "source": [
    "a=list(set([1,2,3,4]))\n",
    "print(a)"
   ]
  },
  {
   "cell_type": "code",
   "execution_count": 6,
   "id": "6d6977d2-65db-46c0-9290-cb2523540831",
   "metadata": {},
   "outputs": [
    {
     "data": {
      "text/plain": [
       "{3}"
      ]
     },
     "execution_count": 6,
     "metadata": {},
     "output_type": "execute_result"
    }
   ],
   "source": [
    "b=set()\n",
    "b.add(3)\n",
    "b"
   ]
  },
  {
   "cell_type": "code",
   "execution_count": 9,
   "id": "54e9d7c9-b15e-4bcf-ba50-ca2ac33a7687",
   "metadata": {},
   "outputs": [
    {
     "name": "stdout",
     "output_type": "stream",
     "text": [
      "{1, 2, 3, 4}\n"
     ]
    }
   ],
   "source": [
    "a=set()\n",
    "a.update([2,1],{2,3,4})\n",
    "print(a)"
   ]
  },
  {
   "cell_type": "code",
   "execution_count": 12,
   "id": "c4756050-eda8-4fed-8f92-ebed47a49307",
   "metadata": {},
   "outputs": [
    {
     "data": {
      "text/plain": [
       "{1, 2, 3, 4, 5, 6}"
      ]
     },
     "execution_count": 12,
     "metadata": {},
     "output_type": "execute_result"
    }
   ],
   "source": [
    "a={1,2,3,4,5,6,7}\n",
    "a.discard(7)\n",
    "a"
   ]
  },
  {
   "cell_type": "code",
   "execution_count": 13,
   "id": "c7a7fb68-24b2-4a5e-b57e-543d093bc324",
   "metadata": {},
   "outputs": [
    {
     "data": {
      "text/plain": [
       "1"
      ]
     },
     "execution_count": 13,
     "metadata": {},
     "output_type": "execute_result"
    }
   ],
   "source": [
    "a.pop()"
   ]
  },
  {
   "cell_type": "code",
   "execution_count": 14,
   "id": "92a4c5be-2277-45ec-9ed0-fa36af29c16e",
   "metadata": {},
   "outputs": [
    {
     "name": "stdout",
     "output_type": "stream",
     "text": [
      "{0, 1, 2, 3, 4, 5, 6, 7, 8, 9}\n"
     ]
    }
   ],
   "source": [
    "a={0,9,8,7,6,5}\n",
    "b={4,3,2,1}\n",
    "print(a|b)"
   ]
  },
  {
   "cell_type": "code",
   "execution_count": 15,
   "id": "22c68294-0442-4c82-bab3-4ea7d3a4b2d0",
   "metadata": {},
   "outputs": [
    {
     "name": "stdout",
     "output_type": "stream",
     "text": [
      "{0, 5, 6, 7, 8, 9}\n"
     ]
    }
   ],
   "source": [
    "print(a-b)"
   ]
  },
  {
   "cell_type": "code",
   "execution_count": 18,
   "id": "e279fe73-30ee-4e3f-8f7b-9de2a58f41fb",
   "metadata": {},
   "outputs": [
    {
     "name": "stdout",
     "output_type": "stream",
     "text": [
      "{0, 3, 4, 7, 8, 9}\n"
     ]
    }
   ],
   "source": [
    "a={0,9,8,7,6,1,2,5}\n",
    "b={4,3,2,1,6,4,5,2}\n",
    "print(a ^ b)"
   ]
  },
  {
   "cell_type": "code",
   "execution_count": 19,
   "id": "16369aaa-b029-42fb-8d88-afe82c7445f1",
   "metadata": {},
   "outputs": [
    {
     "data": {
      "text/plain": [
       "False"
      ]
     },
     "execution_count": 19,
     "metadata": {},
     "output_type": "execute_result"
    }
   ],
   "source": [
    "c={2,3,4,56}\n",
    "d={3,2,4,5,6,7}\n",
    "d.issubset(c)"
   ]
  },
  {
   "cell_type": "code",
   "execution_count": 20,
   "id": "6b963069-e6c9-4315-a825-52484b4f6e4f",
   "metadata": {},
   "outputs": [
    {
     "data": {
      "text/plain": [
       "dict"
      ]
     },
     "execution_count": 20,
     "metadata": {},
     "output_type": "execute_result"
    }
   ],
   "source": [
    "dic={}\n",
    "type(dic)"
   ]
  },
  {
   "cell_type": "code",
   "execution_count": 21,
   "id": "f5db3310-e241-43c7-96c9-adf8ffc698e0",
   "metadata": {},
   "outputs": [
    {
     "data": {
      "text/plain": [
       "10"
      ]
     },
     "execution_count": 21,
     "metadata": {},
     "output_type": "execute_result"
    }
   ],
   "source": [
    "dict1={'a':10, 'b':20,'c':30}\n",
    "dict1['a']"
   ]
  },
  {
   "cell_type": "code",
   "execution_count": 22,
   "id": "2130d849-e0b3-42ec-9eef-4b36400b4bac",
   "metadata": {},
   "outputs": [
    {
     "data": {
      "text/plain": [
       "dict_values([10, 20, 30])"
      ]
     },
     "execution_count": 22,
     "metadata": {},
     "output_type": "execute_result"
    }
   ],
   "source": [
    "dict1.values()"
   ]
  },
  {
   "cell_type": "code",
   "execution_count": 24,
   "id": "fc5eba86-5f2a-4d1c-95b2-9120d96a734f",
   "metadata": {},
   "outputs": [
    {
     "data": {
      "text/plain": [
       "20"
      ]
     },
     "execution_count": 24,
     "metadata": {},
     "output_type": "execute_result"
    }
   ],
   "source": [
    "dict1.pop('b')"
   ]
  },
  {
   "cell_type": "code",
   "execution_count": 25,
   "id": "14aca8cd-3405-4691-b57e-5e1f352035d1",
   "metadata": {},
   "outputs": [
    {
     "data": {
      "text/plain": [
       "2"
      ]
     },
     "execution_count": 25,
     "metadata": {},
     "output_type": "execute_result"
    }
   ],
   "source": [
    "len(dict1)"
   ]
  },
  {
   "cell_type": "code",
   "execution_count": null,
   "id": "1cf5f330-64be-4a76-af29-a7b83e62a751",
   "metadata": {},
   "outputs": [],
   "source": []
  }
 ],
 "metadata": {
  "kernelspec": {
   "display_name": "Python 3 (ipykernel)",
   "language": "python",
   "name": "python3"
  },
  "language_info": {
   "codemirror_mode": {
    "name": "ipython",
    "version": 3
   },
   "file_extension": ".py",
   "mimetype": "text/x-python",
   "name": "python",
   "nbconvert_exporter": "python",
   "pygments_lexer": "ipython3",
   "version": "3.11.7"
  }
 },
 "nbformat": 4,
 "nbformat_minor": 5
}
