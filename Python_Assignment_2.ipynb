{
  "nbformat": 4,
  "nbformat_minor": 0,
  "metadata": {
    "colab": {
      "provenance": []
    },
    "kernelspec": {
      "name": "python3",
      "display_name": "Python 3"
    },
    "language_info": {
      "name": "python"
    }
  },
  "cells": [
    {
      "cell_type": "code",
      "execution_count": 8,
      "metadata": {
        "id": "RegyXyC9FM1B",
        "outputId": "b512e219-c6b0-411c-ddfa-1f5f31b8b933",
        "colab": {
          "base_uri": "https://localhost:8080/"
        }
      },
      "outputs": [
        {
          "output_type": "stream",
          "name": "stdout",
          "text": [
            "enter first number:5\n",
            "enter second number:2\n",
            "the sum of5 and 2 is 52\n",
            "enter a number:4\n",
            "the square root of 4.0 is 2.0\n",
            "enter the base of the triangle:4\n",
            "enter the height of the triangle2\n",
            "the area of the triangle with base 4.0 and height 2.0 is 4.0\n"
          ]
        }
      ],
      "source": [
        "#1. Python Program to Add Two Numbers , take input from user and show the input and output uisng .format\n",
        "a=input(\"enter first number:\")\n",
        "b=input(\"enter second number:\")\n",
        "c=a+b\n",
        "print(f\"the sum of{a} and {b} is {c}\")\n",
        "\n",
        "#2 Python Program to Find the Square Root using operator\n",
        "c=float(input(\"enter a number:\"))\n",
        "sqrt_num=c**0.5\n",
        "print(f\"the square root of {c} is {sqrt_num}\")\n",
        "\n",
        "#3. Python Program to Calculate the Area of a Triangle\n",
        "base=float(input(\"enter the base of the triangle:\"))\n",
        "height=float(input(\"enter the height of the triangle\"))\n",
        "area= 0.5*base*height\n",
        "print(f\"the area of the triangle with base {base} and height {height} is {area}\")\n",
        "\n",
        "#4. Python Program to Convert Kilometers to Miles\n",
        "kilometers=float(input(\"enter the value of kilometers:\"))\n",
        "conv_factor=0.621371\n",
        "miles=kilometers*conv_factor\n",
        "print(f\"{kilometers} kilometers is equal to {miles} miles\")\n",
        "\n",
        "#5 Python Program to Convert Celsius To Fahrenheit\n",
        "celcius=float(input(\"enter the value\"))\n",
        "fahrenheit=(celsius * 9/5) + 32\n",
        "print(f\"{celsius} degrees celsius is equal to {fahrenheit} degrees fahrenheit\")\n",
        "\n",
        "#6 Python Program to Find ASCII Value of Character\n",
        "char=input(\"enter a character\")\n",
        "ascii_value =ord(char)\n",
        "print(f\"the ASCII value of {char} is {ascii values}\")"
      ]
    }
  ]
}