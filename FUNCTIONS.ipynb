{
 "cells": [
  {
   "cell_type": "code",
   "execution_count": 2,
   "id": "49f9cd0a-c98d-48f8-b633-327c029348ab",
   "metadata": {},
   "outputs": [
    {
     "data": {
      "text/plain": [
       "100"
      ]
     },
     "execution_count": 2,
     "metadata": {},
     "output_type": "execute_result"
    }
   ],
   "source": [
    "num=-100\n",
    "abs(num)"
   ]
  },
  {
   "cell_type": "code",
   "execution_count": 1,
   "id": "e5e5dd44-533e-4c2b-a5dd-e05cb3424f30",
   "metadata": {},
   "outputs": [
    {
     "data": {
      "text/plain": [
       "(2, 0)"
      ]
     },
     "execution_count": 1,
     "metadata": {},
     "output_type": "execute_result"
    }
   ],
   "source": [
    "divmod(6,3)"
   ]
  },
  {
   "cell_type": "code",
   "execution_count": 5,
   "id": "903271a2-5cd4-4714-add6-94d0629c747d",
   "metadata": {},
   "outputs": [],
   "source": [
    "def print_name(x):\n",
    "    return \"hello\",x"
   ]
  },
  {
   "cell_type": "code",
   "execution_count": 6,
   "id": "8eb3f4e9-42ef-4a88-a0a8-ccea68167018",
   "metadata": {},
   "outputs": [
    {
     "data": {
      "text/plain": [
       "('hello', 'abc')"
      ]
     },
     "execution_count": 6,
     "metadata": {},
     "output_type": "execute_result"
    }
   ],
   "source": [
    "print_name(\"abc\")"
   ]
  },
  {
   "cell_type": "code",
   "execution_count": 5,
   "id": "6d967956-1582-4eb8-8d68-87f723c9e5a7",
   "metadata": {},
   "outputs": [
    {
     "data": {
      "text/plain": [
       "22"
      ]
     },
     "execution_count": 5,
     "metadata": {},
     "output_type": "execute_result"
    }
   ],
   "source": [
    "def double (num):\n",
    "    return 2*int(num)\n",
    "double(11.7)\n",
    "\n",
    "    "
   ]
  },
  {
   "cell_type": "code",
   "execution_count": 7,
   "id": "92d77306-f7e8-450b-8137-8f0f3982ea28",
   "metadata": {},
   "outputs": [
    {
     "data": {
      "text/plain": [
       "11"
      ]
     },
     "execution_count": 7,
     "metadata": {},
     "output_type": "execute_result"
    }
   ],
   "source": [
    "def add(x,y):\n",
    "    return x+y\n",
    "add(4,7)\n"
   ]
  },
  {
   "cell_type": "code",
   "execution_count": 14,
   "id": "4525b89e-66ea-4125-bf7a-cb8c7f65de72",
   "metadata": {},
   "outputs": [
    {
     "data": {
      "text/plain": [
       "10"
      ]
     },
     "execution_count": 14,
     "metadata": {},
     "output_type": "execute_result"
    }
   ],
   "source": [
    "def get_sum(lst):\n",
    "    sum=0\n",
    "    for num in lst:\n",
    "        sum += num\n",
    "    return sum\n",
    "get_sum([1,2,3,4])\n"
   ]
  },
  {
   "cell_type": "code",
   "execution_count": 16,
   "id": "8934a938-0b95-4623-8f9f-b01043e3a347",
   "metadata": {},
   "outputs": [
    {
     "name": "stdout",
     "output_type": "stream",
     "text": [
      "5\n",
      "10\n",
      "15\n",
      "20\n",
      "25\n",
      "30\n",
      "40\n",
      "45\n",
      "50\n",
      "55\n",
      "60\n",
      "65\n",
      "75\n",
      "80\n",
      "85\n",
      "90\n",
      "95\n"
     ]
    }
   ],
   "source": [
    "def num_5_7(i):\n",
    "    for num in range(1,i):\n",
    "        if num%5==0 and num%7!=0:\n",
    "            print(num)\n",
    "num_5_7(100)"
   ]
  },
  {
   "cell_type": "code",
   "execution_count": 17,
   "id": "6ab66fdb-f15f-4e0e-b598-6b1aad16bcf6",
   "metadata": {},
   "outputs": [
    {
     "name": "stdout",
     "output_type": "stream",
     "text": [
      "2\n"
     ]
    }
   ],
   "source": [
    "lst=[1,2,3,4,5]\n",
    "even_sum=0\n",
    "for i in lst:\n",
    "    if i%2==0:\n",
    "        even_sum=even_sum+1\n",
    "print(even_sum)"
   ]
  },
  {
   "cell_type": "code",
   "execution_count": 18,
   "id": "a32009e8-3aba-4529-bde6-57a4fd535628",
   "metadata": {},
   "outputs": [
    {
     "name": "stdout",
     "output_type": "stream",
     "text": [
      "hello satish,good mrng\n"
     ]
    }
   ],
   "source": [
    "def greet(name,msg):\n",
    "    print(\"hello {},{}\".format(name,msg))\n",
    "greet(\"satish\",\"good mrng\")"
   ]
  },
  {
   "cell_type": "code",
   "execution_count": 1,
   "id": "ffcb4b68-ab56-400a-8bce-dd878a10148c",
   "metadata": {},
   "outputs": [],
   "source": [
    "def even_num():\n",
    "    lb=int(input('enter lower bound values :'))\n",
    "    ub=int(input('enter upper bound values: '))\n",
    "    for i in range(lb,ub+1):\n",
    "        if i%2==0:\n",
    "            print(i)\n",
    "            \n",
    "                 "
   ]
  },
  {
   "cell_type": "code",
   "execution_count": 2,
   "id": "b83f2620-2ebd-4f6c-a0d0-58b84c6c39dd",
   "metadata": {},
   "outputs": [
    {
     "name": "stdin",
     "output_type": "stream",
     "text": [
      "enter lower bound values : 1\n",
      "enter upper bound values:  100\n"
     ]
    },
    {
     "name": "stdout",
     "output_type": "stream",
     "text": [
      "2\n",
      "4\n",
      "6\n",
      "8\n",
      "10\n",
      "12\n",
      "14\n",
      "16\n",
      "18\n",
      "20\n",
      "22\n",
      "24\n",
      "26\n",
      "28\n",
      "30\n",
      "32\n",
      "34\n",
      "36\n",
      "38\n",
      "40\n",
      "42\n",
      "44\n",
      "46\n",
      "48\n",
      "50\n",
      "52\n",
      "54\n",
      "56\n",
      "58\n",
      "60\n",
      "62\n",
      "64\n",
      "66\n",
      "68\n",
      "70\n",
      "72\n",
      "74\n",
      "76\n",
      "78\n",
      "80\n",
      "82\n",
      "84\n",
      "86\n",
      "88\n",
      "90\n",
      "92\n",
      "94\n",
      "96\n",
      "98\n",
      "100\n"
     ]
    }
   ],
   "source": [
    "even_num()"
   ]
  },
  {
   "cell_type": "code",
   "execution_count": 3,
   "id": "9bfba694-1d9b-4c6f-a751-7591267f2d3f",
   "metadata": {},
   "outputs": [
    {
     "name": "stdout",
     "output_type": "stream",
     "text": [
      "hiisatish,bye\n"
     ]
    }
   ],
   "source": [
    "def greet(name,msg=\"hello\"):\n",
    "    print(\"hii{},{}\".format(name,msg))\n",
    "greet(\"satish\",\"bye\")"
   ]
  },
  {
   "cell_type": "code",
   "execution_count": 4,
   "id": "bf0e7382-2581-4e0a-a3ee-7e96318e7599",
   "metadata": {},
   "outputs": [
    {
     "name": "stdout",
     "output_type": "stream",
     "text": [
      "hiisatish,hello\n"
     ]
    }
   ],
   "source": [
    "greet(\"satish\")"
   ]
  },
  {
   "cell_type": "code",
   "execution_count": 7,
   "id": "d4f4b5e5-a4db-4adb-a23e-add1ae97ffc1",
   "metadata": {},
   "outputs": [],
   "source": [
    "def factorial(num):\n",
    "    if num==0:\n",
    "        return 1\n",
    "    else:\n",
    "        return num * factorial(num-1)\n",
    "        "
   ]
  },
  {
   "cell_type": "code",
   "execution_count": 8,
   "id": "bae29a9e-e854-4a19-a4de-29267737d042",
   "metadata": {},
   "outputs": [
    {
     "name": "stdout",
     "output_type": "stream",
     "text": [
      "factorial of 4 is 24\n"
     ]
    }
   ],
   "source": [
    "num = 4\n",
    "print(\"factorial of {} is {}\".format(num, factorial(num)))"
   ]
  },
  {
   "cell_type": "code",
   "execution_count": null,
   "id": "b7d56001-9e6a-4646-892f-60aeed74d57e",
   "metadata": {},
   "outputs": [],
   "source": [
    "def add(a,b):\n",
    "    return a+b\n",
    "def sub(a,b):\n",
    "    return a-b\n",
    "def multiply(a,b):\n",
    "    return a*b\n",
    "print(\"select option\")\n",
    "print(\"1. addition\")\n",
    "print(\"2.subtraction\")\n",
    "print(\"3.multiplication\")\n",
    "choice=int(input(\"enter first number:\"))\n",
    "num1= int(input(\"enter first number:\"))\n",
    "num2= int(input(\"enter second number:\"))\n",
    "if choice== 1:\n",
    "    print(\"addition of {} and {} is {}\".format(num1,num2,add(num1,num2)))\n",
    "elif choice== 2:\n",
    "    print(\"subtraction of {} and {} is {}\".format(num1,num2,sub(num1,num2)))\n",
    "elif choice==3:\n",
    "    print(\"multiplication of {} and {} is {}\".format(num1,num2,multi(num1,num2)))\n",
    "    \n",
    "    "
   ]
  },
  {
   "cell_type": "code",
   "execution_count": null,
   "id": "3b4eed25-5221-4b26-ad88-e5fe7731e4e2",
   "metadata": {},
   "outputs": [],
   "source": []
  }
 ],
 "metadata": {
  "kernelspec": {
   "display_name": "Python 3 (ipykernel)",
   "language": "python",
   "name": "python3"
  },
  "language_info": {
   "codemirror_mode": {
    "name": "ipython",
    "version": 3
   },
   "file_extension": ".py",
   "mimetype": "text/x-python",
   "name": "python",
   "nbconvert_exporter": "python",
   "pygments_lexer": "ipython3",
   "version": "3.11.7"
  }
 },
 "nbformat": 4,
 "nbformat_minor": 5
}
