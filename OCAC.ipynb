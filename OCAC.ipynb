{
 "cells": [
  {
   "cell_type": "code",
   "execution_count": 7,
   "id": "bd8982bb-d090-4f13-8d00-2548d8320f70",
   "metadata": {},
   "outputs": [
    {
     "name": "stdin",
     "output_type": "stream",
     "text": [
      "enter a name akankshya\n",
      "enter a college name pmec\n"
     ]
    },
    {
     "name": "stdout",
     "output_type": "stream",
     "text": [
      "the name is and the college name is akankshya pmec\n"
     ]
    }
   ],
   "source": [
    "a=input (\"enter a name\")\n",
    "b=input (\"enter a college name\")\n",
    "print(\"the name is and the college name is\",a,b)"
   ]
  },
  {
   "cell_type": "code",
   "execution_count": 20,
   "id": "41c65023-de6d-4f54-b933-a0363400e403",
   "metadata": {},
   "outputs": [
    {
     "name": "stdin",
     "output_type": "stream",
     "text": [
      "enter a name akankshya\n",
      "enter a college name pmec\n"
     ]
    },
    {
     "name": "stdout",
     "output_type": "stream",
     "text": [
      "the name is akankshya the college name is pmec\n"
     ]
    }
   ],
   "source": [
    "a=input (\"enter a name\")\n",
    "b=input (\"enter a college name\")\n",
    "print(\"the name is\",a,\"the college name is\",b)"
   ]
  },
  {
   "cell_type": "code",
   "execution_count": null,
   "id": "e2cba36c-0e9c-476f-a30d-7293092fe53d",
   "metadata": {},
   "outputs": [],
   "source": []
  },
  {
   "cell_type": "code",
   "execution_count": 4,
   "id": "7913c80a-f472-4675-9871-f42213958208",
   "metadata": {},
   "outputs": [
    {
     "name": "stdout",
     "output_type": "stream",
     "text": [
      "21\n"
     ]
    }
   ],
   "source": [
    "c=10\n",
    "d=11\n",
    "print(c+d)\n"
   ]
  },
  {
   "cell_type": "code",
   "execution_count": 5,
   "id": "afabbbeb-a42b-49ec-ae21-9f725cb8bde7",
   "metadata": {},
   "outputs": [
    {
     "name": "stdout",
     "output_type": "stream",
     "text": [
      "10 11\n"
     ]
    }
   ],
   "source": [
    "print(c,d)"
   ]
  },
  {
   "cell_type": "code",
   "execution_count": 13,
   "id": "c2d0b8d3-70ce-4b3b-a91e-62314863501a",
   "metadata": {},
   "outputs": [
    {
     "name": "stdout",
     "output_type": "stream",
     "text": [
      "the multiplication of 4 and 7 is 28\n"
     ]
    }
   ],
   "source": [
    "a=4\n",
    "b=7\n",
    "multiplication=a*b\n",
    "print(\"the multiplication of {} and {} is {}\".format(a,b,multiplication))\n"
   ]
  },
  {
   "cell_type": "code",
   "execution_count": 10,
   "id": "b738aa91-6591-47e2-a073-cbf7b608f93d",
   "metadata": {},
   "outputs": [
    {
     "name": "stdout",
     "output_type": "stream",
     "text": [
      "the sum of 2 and 4 is 6\n"
     ]
    }
   ],
   "source": [
    "num1=2\n",
    "num2=4\n",
    "sum=num1 + num2\n",
    "print(\"the sum of {} and {} is {}\".format(num1,num2,sum))"
   ]
  },
  {
   "cell_type": "code",
   "execution_count": 19,
   "id": "6a034c96-d3ab-4c87-8500-d97c0a25dfea",
   "metadata": {},
   "outputs": [
    {
     "name": "stdin",
     "output_type": "stream",
     "text": [
      "enter first number 4\n",
      "enter second number 2\n"
     ]
    },
    {
     "name": "stdout",
     "output_type": "stream",
     "text": [
      "the sum of 4 and 2 is 42\n"
     ]
    }
   ],
   "source": [
    "a=input(\"enter first number\")\n",
    "b=input(\"enter second number\")\n",
    "sum=a+b\n",
    "print(\"the sum of {} and {} is {}\".format(a,b,sum))"
   ]
  },
  {
   "cell_type": "code",
   "execution_count": 30,
   "id": "a272eed8-3154-47ec-abc3-68b49037b367",
   "metadata": {},
   "outputs": [
    {
     "name": "stdout",
     "output_type": "stream",
     "text": [
      "140726652882824\n",
      "140726652882824\n",
      "140726652882824\n"
     ]
    }
   ],
   "source": [
    "x=100\n",
    "y= b\n",
    "z=100\n",
    "print(id(x))\n",
    "print(id(y))\n",
    "print(id(z))"
   ]
  },
  {
   "cell_type": "code",
   "execution_count": 31,
   "id": "5f18cdc8-120c-48cb-8321-19633a9b2d85",
   "metadata": {},
   "outputs": [
    {
     "name": "stdout",
     "output_type": "stream",
     "text": [
      "140726652882824\n"
     ]
    }
   ],
   "source": [
    "b=100\n",
    "print(id(b))\n"
   ]
  },
  {
   "cell_type": "markdown",
   "id": "c461c057-6e7d-481a-b9ae-3dd66aae90a4",
   "metadata": {},
   "source": [
    "a=10\n",
    "print(a)\n",
    "type(a)"
   ]
  },
  {
   "cell_type": "code",
   "execution_count": 2,
   "id": "aadf5770-1f4e-4668-9287-d95ec5c075ae",
   "metadata": {},
   "outputs": [
    {
     "name": "stdout",
     "output_type": "stream",
     "text": [
      "112\n"
     ]
    },
    {
     "data": {
      "text/plain": [
       "str"
      ]
     },
     "execution_count": 2,
     "metadata": {},
     "output_type": "execute_result"
    }
   ],
   "source": [
    "a='112'\n",
    "print(a)\n",
    "type(a)"
   ]
  },
  {
   "cell_type": "code",
   "execution_count": 3,
   "id": "cbe50c0b-2220-47f3-934d-7ed25deafcc2",
   "metadata": {},
   "outputs": [
    {
     "name": "stdout",
     "output_type": "stream",
     "text": [
      "1:2:3:4\n"
     ]
    }
   ],
   "source": [
    "a=1\n",
    "b=2\n",
    "c=3\n",
    "d=4\n",
    "print(a,b,c,d,sep=':')"
   ]
  },
  {
   "cell_type": "code",
   "execution_count": 5,
   "id": "28196e45-f913-43c1-858c-eadd9c8babfe",
   "metadata": {},
   "outputs": [
    {
     "name": "stdout",
     "output_type": "stream",
     "text": [
      "Name das akankshya\n"
     ]
    }
   ],
   "source": [
    "first_name='akankshya'\n",
    "last_name='das'\n",
    "print(\"Name\",last_name,first_name)"
   ]
  },
  {
   "cell_type": "markdown",
   "id": "c7941786-9dd4-4d61-99d8-1ea13efab0b3",
   "metadata": {},
   "source": [
    "num=100\n",
    "name='akka'\n",
    "print('my number is {} and my name is{}'.format(name,num))"
   ]
  },
  {
   "cell_type": "code",
   "execution_count": 6,
   "id": "ac54d214-c0f6-432b-89e8-d66d806da5ac",
   "metadata": {},
   "outputs": [
    {
     "name": "stdout",
     "output_type": "stream",
     "text": [
      "hello akka good night akka\n"
     ]
    }
   ],
   "source": [
    "print(\"hello {name} {greeting} {name}\".format(name=\"akka\",greeting=\"good night\"))"
   ]
  },
  {
   "cell_type": "code",
   "execution_count": 2,
   "id": "8e7ad43a-647b-4d1b-84a9-0a445374c7ac",
   "metadata": {},
   "outputs": [
    {
     "data": {
      "text/plain": [
       "'ABCDEF'"
      ]
     },
     "execution_count": 2,
     "metadata": {},
     "output_type": "execute_result"
    }
   ],
   "source": [
    "a=\"ABCDEF\"\n",
    "a"
   ]
  },
  {
   "cell_type": "code",
   "execution_count": 10,
   "id": "db098e9a-897a-4c2a-a70b-cecbc7e1e396",
   "metadata": {},
   "outputs": [
    {
     "data": {
      "text/plain": [
       "int"
      ]
     },
     "execution_count": 10,
     "metadata": {},
     "output_type": "execute_result"
    }
   ],
   "source": [
    "a=10\n",
    "a\n",
    "type(a)"
   ]
  },
  {
   "cell_type": "code",
   "execution_count": 11,
   "id": "4f4924be-733c-4af5-95a8-73ab297f198a",
   "metadata": {},
   "outputs": [
    {
     "data": {
      "text/plain": [
       "str"
      ]
     },
     "execution_count": 11,
     "metadata": {},
     "output_type": "execute_result"
    }
   ],
   "source": [
    "a=\"10\"\n",
    "a\n",
    "type(a)"
   ]
  },
  {
   "cell_type": "code",
   "execution_count": 2,
   "id": "795fd54b-31c0-46dd-8c13-00a32eb6a0ad",
   "metadata": {},
   "outputs": [
    {
     "name": "stdin",
     "output_type": "stream",
     "text": [
      " 500\n"
     ]
    },
    {
     "data": {
      "text/plain": [
       "'500'"
      ]
     },
     "execution_count": 2,
     "metadata": {},
     "output_type": "execute_result"
    }
   ],
   "source": [
    "n=input()\n",
    "n"
   ]
  },
  {
   "cell_type": "code",
   "execution_count": 5,
   "id": "001ed633-b934-4f68-b482-6cf6a2ad35e7",
   "metadata": {},
   "outputs": [
    {
     "name": "stdin",
     "output_type": "stream",
     "text": [
      "enter your qualification btech\n"
     ]
    },
    {
     "name": "stdout",
     "output_type": "stream",
     "text": [
      "pmecbtech!\n"
     ]
    }
   ],
   "source": [
    "qualification=input(\"enter your qualification\")\n",
    "print(\"pmec\"+qualification+ \"!\")"
   ]
  },
  {
   "cell_type": "code",
   "execution_count": 6,
   "id": "b154838e-4e32-4f50-8a38-7354f2ea3567",
   "metadata": {},
   "outputs": [
    {
     "name": "stdin",
     "output_type": "stream",
     "text": [
      "enter your age ? 21\n"
     ]
    },
    {
     "name": "stdout",
     "output_type": "stream",
     "text": [
      "hey,you are already21years old\n"
     ]
    }
   ],
   "source": [
    "age = input(\"enter your age ?\")\n",
    "print(\"hey,you are already\" +age+ \"years old\")"
   ]
  },
  {
   "cell_type": "code",
   "execution_count": 8,
   "id": "0f333309-db6d-4e9e-8d51-a0a61db310f3",
   "metadata": {},
   "outputs": [
    {
     "data": {
      "text/plain": [
       "2"
      ]
     },
     "execution_count": 8,
     "metadata": {},
     "output_type": "execute_result"
    }
   ],
   "source": [
    "\"good night\".count(\"o\")"
   ]
  },
  {
   "cell_type": "code",
   "execution_count": 9,
   "id": "e8a6c649-a0be-4c38-ad36-2f068765931e",
   "metadata": {},
   "outputs": [
    {
     "data": {
      "text/plain": [
       "'bad night'"
      ]
     },
     "execution_count": 9,
     "metadata": {},
     "output_type": "execute_result"
    }
   ],
   "source": [
    "\"good night\".replace(\"good\",\"bad\")"
   ]
  },
  {
   "cell_type": "code",
   "execution_count": 10,
   "id": "f085d9dc-64cd-4a05-a8bc-d9dbcf1e0059",
   "metadata": {},
   "outputs": [
    {
     "data": {
      "text/plain": [
       "['akankshyadas2003', 'gmail.com']"
      ]
     },
     "execution_count": 10,
     "metadata": {},
     "output_type": "execute_result"
    }
   ],
   "source": [
    "mail=\"akankshyadas2003@gmail.com\"\n",
    "mail.split(\"@\")"
   ]
  },
  {
   "cell_type": "code",
   "execution_count": 12,
   "id": "ca56a9a9-593f-4fbb-b68a-0ba1eddbab4e",
   "metadata": {},
   "outputs": [
    {
     "data": {
      "text/plain": [
       "['my', 'name', 'is', 'akankshya', 'das']"
      ]
     },
     "execution_count": 12,
     "metadata": {},
     "output_type": "execute_result"
    }
   ],
   "source": [
    "\"my name is akankshya das\".split()"
   ]
  },
  {
   "cell_type": "code",
   "execution_count": 14,
   "id": "aeca7beb-92d3-4846-8ec3-2d5f6523b99c",
   "metadata": {},
   "outputs": [
    {
     "data": {
      "text/plain": [
       "0"
      ]
     },
     "execution_count": 14,
     "metadata": {},
     "output_type": "execute_result"
    }
   ],
   "source": [
    "\"good morning\".find (\"g\")"
   ]
  },
  {
   "cell_type": "code",
   "execution_count": null,
   "id": "6b1274be-f2f5-4d7c-907b-e777165856fe",
   "metadata": {},
   "outputs": [],
   "source": []
  },
  {
   "cell_type": "code",
   "execution_count": 15,
   "id": "637f6fcd-f479-4e2e-9372-d6c5c05baed1",
   "metadata": {},
   "outputs": [
    {
     "data": {
      "text/plain": [
       "'Good Morning'"
      ]
     },
     "execution_count": 15,
     "metadata": {},
     "output_type": "execute_result"
    }
   ],
   "source": [
    "\"good morning\".title()"
   ]
  },
  {
   "cell_type": "code",
   "execution_count": 17,
   "id": "240b523e-8609-4b91-867e-003f21e9437b",
   "metadata": {},
   "outputs": [
    {
     "data": {
      "text/plain": [
       "'good morning'"
      ]
     },
     "execution_count": 17,
     "metadata": {},
     "output_type": "execute_result"
    }
   ],
   "source": [
    "a=\"gOOd moRning\"\n",
    "a.lower()"
   ]
  },
  {
   "cell_type": "code",
   "execution_count": 20,
   "id": "8d022956-0fed-4d49-8170-23d6c6358b35",
   "metadata": {},
   "outputs": [
    {
     "data": {
      "text/plain": [
       "bool"
      ]
     },
     "execution_count": 20,
     "metadata": {},
     "output_type": "execute_result"
    }
   ],
   "source": [
    "type(True)"
   ]
  },
  {
   "cell_type": "code",
   "execution_count": null,
   "id": "7f8be88b-bbbb-4fec-a54a-6f17613ed7ba",
   "metadata": {},
   "outputs": [],
   "source": []
  }
 ],
 "metadata": {
  "kernelspec": {
   "display_name": "Python 3 (ipykernel)",
   "language": "python",
   "name": "python3"
  },
  "language_info": {
   "codemirror_mode": {
    "name": "ipython",
    "version": 3
   },
   "file_extension": ".py",
   "mimetype": "text/x-python",
   "name": "python",
   "nbconvert_exporter": "python",
   "pygments_lexer": "ipython3",
   "version": "3.11.7"
  }
 },
 "nbformat": 4,
 "nbformat_minor": 5
}
