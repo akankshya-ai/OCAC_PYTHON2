{
 "cells": [
  {
   "cell_type": "code",
   "execution_count": 3,
   "id": "7be5ae0c-8d73-4c0e-8e7a-5c5e010c9388",
   "metadata": {},
   "outputs": [
    {
     "name": "stdout",
     "output_type": "stream",
     "text": [
      "even\n"
     ]
    }
   ],
   "source": [
    "x=4\n",
    "if x%2==0:\n",
    "    print(\"even\")\n"
   ]
  },
  {
   "cell_type": "code",
   "execution_count": 4,
   "id": "397aeae6-c26a-475d-9aaa-e14d34654cc8",
   "metadata": {},
   "outputs": [
    {
     "name": "stdout",
     "output_type": "stream",
     "text": [
      "Hi\n",
      "Hello\n"
     ]
    }
   ],
   "source": [
    "if 1<2:\n",
    "    print('Hi')\n",
    "    print('Hello')"
   ]
  },
  {
   "cell_type": "code",
   "execution_count": 7,
   "id": "9b4f2d68-89c3-4bd6-8d5c-8da7655a4085",
   "metadata": {},
   "outputs": [],
   "source": [
    "if 1>2:\n",
    "    print('hi')\n",
    "    print('jack')"
   ]
  },
  {
   "cell_type": "code",
   "execution_count": 8,
   "id": "df18b80c-fd78-4aa7-927c-d167540adc59",
   "metadata": {},
   "outputs": [
    {
     "name": "stdout",
     "output_type": "stream",
     "text": [
      "odd\n"
     ]
    }
   ],
   "source": [
    "x=19\n",
    "if x%2==0:\n",
    "    print(\"even\")\n",
    "else:\n",
    "    print(\"odd\")\n",
    "    "
   ]
  },
  {
   "cell_type": "code",
   "execution_count": 11,
   "id": "aba85311-37c0-47f4-812f-b0e40046a46d",
   "metadata": {},
   "outputs": [
    {
     "data": {
      "text/plain": [
       "True"
      ]
     },
     "execution_count": 11,
     "metadata": {},
     "output_type": "execute_result"
    }
   ],
   "source": [
    "bool(-0.5)"
   ]
  },
  {
   "cell_type": "code",
   "execution_count": 12,
   "id": "eb6d67af-473a-4d07-b964-f2012a9fc11d",
   "metadata": {},
   "outputs": [
    {
     "data": {
      "text/plain": [
       "-0.5"
      ]
     },
     "execution_count": 12,
     "metadata": {},
     "output_type": "execute_result"
    }
   ],
   "source": [
    "float(-0.5)"
   ]
  },
  {
   "cell_type": "code",
   "execution_count": 13,
   "id": "7369cdc5-d3f8-40c9-9df4-dc02eadd3041",
   "metadata": {},
   "outputs": [
    {
     "name": "stdout",
     "output_type": "stream",
     "text": [
      "grade C\n"
     ]
    }
   ],
   "source": [
    "y=52\n",
    "if y>90:\n",
    "    print(\"grade A\")\n",
    "elif(y>60):\n",
    "    print(\"grade B\")\n",
    "elif y>40:\n",
    "    print(\"grade C\")\n",
    "else:\n",
    "    print(\"grade F\")"
   ]
  },
  {
   "cell_type": "code",
   "execution_count": 2,
   "id": "ed91a58c-9f98-497b-b26f-77929beef89f",
   "metadata": {},
   "outputs": [
    {
     "name": "stdout",
     "output_type": "stream",
     "text": [
      "negative\n",
      "I am out of IF block\n"
     ]
    }
   ],
   "source": [
    "x=-20\n",
    "if x>0:\n",
    "    print('positive')\n",
    "    print('hello')\n",
    "elif x==0:\n",
    "    print('zero')\n",
    "else:\n",
    "    print('negative')\n",
    "print(\"I am out of IF block\")"
   ]
  },
  {
   "cell_type": "code",
   "execution_count": 3,
   "id": "c2e17c67-f1eb-4412-886b-67c7fd437858",
   "metadata": {},
   "outputs": [
    {
     "name": "stdout",
     "output_type": "stream",
     "text": [
      "negative number\n"
     ]
    }
   ],
   "source": [
    "i=8.67\n",
    "if i >= 0:\n",
    "    if i == 0:\n",
    "        print(\"not\")\n",
    "    else:\n",
    "        print(\"negative number\")\n",
    "else:\n",
    "    print(\"positive number\")"
   ]
  },
  {
   "cell_type": "code",
   "execution_count": null,
   "id": "74b10fa3-c004-4b52-97ff-02f9b4859f83",
   "metadata": {},
   "outputs": [],
   "source": []
  }
 ],
 "metadata": {
  "kernelspec": {
   "display_name": "Python 3 (ipykernel)",
   "language": "python",
   "name": "python3"
  },
  "language_info": {
   "codemirror_mode": {
    "name": "ipython",
    "version": 3
   },
   "file_extension": ".py",
   "mimetype": "text/x-python",
   "name": "python",
   "nbconvert_exporter": "python",
   "pygments_lexer": "ipython3",
   "version": "3.11.7"
  }
 },
 "nbformat": 4,
 "nbformat_minor": 5
}
