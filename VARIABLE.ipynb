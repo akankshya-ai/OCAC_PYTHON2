{
 "cells": [
  {
   "cell_type": "code",
   "execution_count": 1,
   "id": "385bd943-aed7-41aa-8d62-8838c3af82df",
   "metadata": {},
   "outputs": [
    {
     "name": "stdout",
     "output_type": "stream",
     "text": [
      "AKANKSHYA\n"
     ]
    }
   ],
   "source": [
    "A = \"AKANKSHYA\"\n",
    "print (A)"
   ]
  },
  {
   "cell_type": "code",
   "execution_count": 4,
   "id": "e275a4bf-f167-4e88-b023-75fb75276392",
   "metadata": {},
   "outputs": [
    {
     "data": {
      "text/plain": [
       "'AKANKSHYAAKANKSHYA'"
      ]
     },
     "execution_count": 4,
     "metadata": {},
     "output_type": "execute_result"
    }
   ],
   "source": [
    "A = \"AKANKSHYA\"\n",
    "A+A"
   ]
  },
  {
   "cell_type": "code",
   "execution_count": 5,
   "id": "c9bd26c3-3aac-4ac6-ba77-52d9e52395e2",
   "metadata": {},
   "outputs": [
    {
     "data": {
      "text/plain": [
       "'AKANKSHYA'"
      ]
     },
     "execution_count": 5,
     "metadata": {},
     "output_type": "execute_result"
    }
   ],
   "source": [
    "A = \"AKANKSHYA\"\n",
    "A"
   ]
  },
  {
   "cell_type": "code",
   "execution_count": null,
   "id": "a74780ee-e736-44ed-900a-91502c88d2f5",
   "metadata": {},
   "outputs": [],
   "source": [
    "VARIABLE"
   ]
  },
  {
   "cell_type": "code",
   "execution_count": 2,
   "id": "3641ed23-effd-4a1b-ac5d-4abe765a646d",
   "metadata": {},
   "outputs": [
    {
     "data": {
      "text/plain": [
       "int"
      ]
     },
     "execution_count": 2,
     "metadata": {},
     "output_type": "execute_result"
    }
   ],
   "source": [
    "A=10\n",
    "A\n",
    "type(A)"
   ]
  },
  {
   "cell_type": "code",
   "execution_count": 6,
   "id": "b5ea8567-6cf4-43e5-966a-0e27215aa858",
   "metadata": {},
   "outputs": [
    {
     "name": "stdout",
     "output_type": "stream",
     "text": [
      "<class 'str'>\n"
     ]
    }
   ],
   "source": [
    "B=\"11\"\n",
    "B\n",
    "print(type(B))"
   ]
  },
  {
   "cell_type": "code",
   "execution_count": 7,
   "id": "f1fa6ab5-322d-4ea5-a959-ab4960234a3b",
   "metadata": {},
   "outputs": [
    {
     "data": {
      "text/plain": [
       "float"
      ]
     },
     "execution_count": 7,
     "metadata": {},
     "output_type": "execute_result"
    }
   ],
   "source": [
    "a=1.1\n",
    "type(a)"
   ]
  },
  {
   "cell_type": "code",
   "execution_count": 11,
   "id": "fb6e10c7-f712-4039-ae71-5265be200b24",
   "metadata": {},
   "outputs": [
    {
     "data": {
      "text/plain": [
       "3.9"
      ]
     },
     "execution_count": 11,
     "metadata": {},
     "output_type": "execute_result"
    }
   ],
   "source": [
    "A=3.9\n",
    "B=False\n",
    "A+B\n"
   ]
  },
  {
   "cell_type": "code",
   "execution_count": 12,
   "id": "b594da45-6f12-4c8c-a800-6d5abdbc8579",
   "metadata": {},
   "outputs": [
    {
     "data": {
      "text/plain": [
       "complex"
      ]
     },
     "execution_count": 12,
     "metadata": {},
     "output_type": "execute_result"
    }
   ],
   "source": [
    "X=10+2j\n",
    "type(X)"
   ]
  },
  {
   "cell_type": "code",
   "execution_count": 13,
   "id": "51011833-3cbe-4042-a7d0-d2039abd4df7",
   "metadata": {},
   "outputs": [
    {
     "data": {
      "text/plain": [
       "10.0"
      ]
     },
     "execution_count": 13,
     "metadata": {},
     "output_type": "execute_result"
    }
   ],
   "source": [
    "X.real\n"
   ]
  },
  {
   "cell_type": "code",
   "execution_count": 14,
   "id": "fd757c57-02ce-4850-b94f-55ee4f944a84",
   "metadata": {},
   "outputs": [
    {
     "data": {
      "text/plain": [
       "2.0"
      ]
     },
     "execution_count": 14,
     "metadata": {},
     "output_type": "execute_result"
    }
   ],
   "source": [
    "X.imag"
   ]
  },
  {
   "cell_type": "code",
   "execution_count": 25,
   "id": "acb3eb25-e35b-4fca-84e0-f1089906e1c3",
   "metadata": {},
   "outputs": [
    {
     "data": {
      "text/plain": [
       "'BBSRT'"
      ]
     },
     "execution_count": 25,
     "metadata": {},
     "output_type": "execute_result"
    }
   ],
   "source": [
    "Z=\"BBSRTV\"\n",
    "Z [0:3]\n",
    "Z [ : : -1]\n",
    "Z [: -1]"
   ]
  },
  {
   "cell_type": "code",
   "execution_count": 26,
   "id": "4a4eda70-e041-4b95-b60b-14cf6aeec17d",
   "metadata": {},
   "outputs": [
    {
     "name": "stdout",
     "output_type": "stream",
     "text": [
      "navin\"laptop\"\n"
     ]
    }
   ],
   "source": [
    "print('navin\"laptop\"')"
   ]
  },
  {
   "cell_type": "code",
   "execution_count": 28,
   "id": "616f7f99-93da-4c3b-9e05-c8c52eb6f3dc",
   "metadata": {},
   "outputs": [
    {
     "name": "stdout",
     "output_type": "stream",
     "text": [
      "navin/s \"laptop\"\n"
     ]
    }
   ],
   "source": [
    "print('navin/s \"laptop\"')"
   ]
  },
  {
   "cell_type": "code",
   "execution_count": 32,
   "id": "4b381a16-a415-4a12-a083-c10493b363f0",
   "metadata": {},
   "outputs": [
    {
     "data": {
      "text/plain": [
       "['akankshyadas2003', 'gmail.com']"
      ]
     },
     "execution_count": 32,
     "metadata": {},
     "output_type": "execute_result"
    }
   ],
   "source": [
    "mail='akankshyadas2003@gmail.com'\n",
    "mail.split('@')"
   ]
  },
  {
   "cell_type": "code",
   "execution_count": null,
   "id": "dc5a3226-d0e8-41b8-b3af-75a37731ff83",
   "metadata": {},
   "outputs": [],
   "source": []
  },
  {
   "cell_type": "code",
   "execution_count": 34,
   "id": "af884ad7-7354-4a0c-a6a9-e226aa4810cd",
   "metadata": {},
   "outputs": [
    {
     "data": {
      "text/plain": [
       "3"
      ]
     },
     "execution_count": 34,
     "metadata": {},
     "output_type": "execute_result"
    }
   ],
   "source": [
    "\"Good Morning\".count(\"o\")"
   ]
  },
  {
   "cell_type": "code",
   "execution_count": 35,
   "id": "8b2560a2-5fde-486c-b770-6a81c32b5b8d",
   "metadata": {},
   "outputs": [
    {
     "data": {
      "text/plain": [
       "'good evening'"
      ]
     },
     "execution_count": 35,
     "metadata": {},
     "output_type": "execute_result"
    }
   ],
   "source": [
    "s1=\"good morning\"\n",
    "s1.replace(\"morning\",\"evening\")"
   ]
  },
  {
   "cell_type": "code",
   "execution_count": null,
   "id": "143c0ae8-1cbe-41d2-b272-ac331797f1cb",
   "metadata": {},
   "outputs": [],
   "source": [
    "LIST"
   ]
  },
  {
   "cell_type": "code",
   "execution_count": 3,
   "id": "d334c805-8761-4d49-be8a-443cb76cf1e4",
   "metadata": {},
   "outputs": [
    {
     "data": {
      "text/plain": [
       "[1, 2, 'SAM', [763, '365']]"
      ]
     },
     "execution_count": 3,
     "metadata": {},
     "output_type": "execute_result"
    }
   ],
   "source": [
    "A=[1,2,\"SAM\",[763,\"365\"]]\n",
    "A"
   ]
  },
  {
   "cell_type": "code",
   "execution_count": 4,
   "id": "25f9d18d-79ab-48fe-bc16-2b090669e2bc",
   "metadata": {},
   "outputs": [
    {
     "data": {
      "text/plain": [
       "list"
      ]
     },
     "execution_count": 4,
     "metadata": {},
     "output_type": "execute_result"
    }
   ],
   "source": [
    "type(A)"
   ]
  },
  {
   "cell_type": "code",
   "execution_count": 6,
   "id": "6913616d-5793-4be0-84ab-dd247e136540",
   "metadata": {},
   "outputs": [
    {
     "name": "stdout",
     "output_type": "stream",
     "text": [
      "4\n"
     ]
    }
   ],
   "source": [
    "lst=['one','two','three','four']\n",
    "print(len(lst))"
   ]
  },
  {
   "cell_type": "code",
   "execution_count": 12,
   "id": "74ac2a3a-2946-4e96-8664-9f9001d29a51",
   "metadata": {},
   "outputs": [
    {
     "name": "stdout",
     "output_type": "stream",
     "text": [
      "[10, 30, 50, 70]\n",
      "[80, 70, 60, 50, 40, 30, 20, 10]\n"
     ]
    }
   ],
   "source": [
    "z=[10,20,30,40,50,60,70,80]\n",
    "print(z[::2])\n",
    "print(z[-1: :-1])"
   ]
  },
  {
   "cell_type": "code",
   "execution_count": 17,
   "id": "7fb78189-1792-4cc7-bab9-74e14137ff51",
   "metadata": {},
   "outputs": [
    {
     "data": {
      "text/plain": [
       "4"
      ]
     },
     "execution_count": 17,
     "metadata": {},
     "output_type": "execute_result"
    }
   ],
   "source": [
    "lst=[1,2,[3,4],[5,[100,200,['hello'],23,11],1,7]]\n",
    "len(lst)"
   ]
  },
  {
   "cell_type": "code",
   "execution_count": 20,
   "id": "662114c4-6042-4265-b481-90bc388bb6eb",
   "metadata": {},
   "outputs": [
    {
     "data": {
      "text/plain": [
       "'hello'"
      ]
     },
     "execution_count": 20,
     "metadata": {},
     "output_type": "execute_result"
    }
   ],
   "source": [
    "lst[3][1][2][0]"
   ]
  },
  {
   "cell_type": "code",
   "execution_count": null,
   "id": "7353e6ce-a19d-4937-84fc-b81305bac845",
   "metadata": {},
   "outputs": [],
   "source": [
    "LIST METHODS"
   ]
  },
  {
   "cell_type": "code",
   "execution_count": 1,
   "id": "06a563da-bfe6-41bb-a9bc-41ebe8048dee",
   "metadata": {},
   "outputs": [
    {
     "data": {
      "text/plain": [
       "['a', 'b', 'c', '5']"
      ]
     },
     "execution_count": 1,
     "metadata": {},
     "output_type": "execute_result"
    }
   ],
   "source": [
    "my_list=['a','b','c']\n",
    "my_list.append(\"5\")\n",
    "my_list"
   ]
  },
  {
   "cell_type": "code",
   "execution_count": 2,
   "id": "bcb353e9-38b9-4263-a0eb-82a4805a0964",
   "metadata": {},
   "outputs": [
    {
     "data": {
      "text/plain": [
       "[1, 2, 3, 4, 5, 8, 9]"
      ]
     },
     "execution_count": 2,
     "metadata": {},
     "output_type": "execute_result"
    }
   ],
   "source": [
    "lst=[1,2,3,4,5]\n",
    "lst.extend([8,9])\n",
    "lst"
   ]
  },
  {
   "cell_type": "code",
   "execution_count": 27,
   "id": "8f4c4117-a515-47b4-b83b-7ebd34cc7946",
   "metadata": {},
   "outputs": [
    {
     "data": {
      "text/plain": [
       "[20, 30, 40, 5, 6, 7, 8, 9, 10]"
      ]
     },
     "execution_count": 27,
     "metadata": {},
     "output_type": "execute_result"
    }
   ],
   "source": [
    "marks=[10,20,30,40,5,6,7,8,9,10]\n",
    "marks.remove(10)\n",
    "marks"
   ]
  },
  {
   "cell_type": "code",
   "execution_count": 24,
   "id": "c8b5f88c-8b8d-4f88-8794-e3b4bc109891",
   "metadata": {},
   "outputs": [
    {
     "name": "stdout",
     "output_type": "stream",
     "text": [
      "['one', 'three', 'four', 'two']\n"
     ]
    }
   ],
   "source": [
    "lst=['one',[1,2,'two'],'three','four','two']\n",
    "lst.remove(lst[1])\n",
    "print(lst)"
   ]
  },
  {
   "cell_type": "code",
   "execution_count": 28,
   "id": "80e7372e-6844-4c94-abb6-0f096148b32e",
   "metadata": {},
   "outputs": [
    {
     "data": {
      "text/plain": [
       "[]"
      ]
     },
     "execution_count": 28,
     "metadata": {},
     "output_type": "execute_result"
    }
   ],
   "source": [
    "a=[1,2,3,4]\n",
    "a.clear()\n",
    "a"
   ]
  },
  {
   "cell_type": "code",
   "execution_count": 29,
   "id": "e70ffa14-d282-455c-809e-beed14235499",
   "metadata": {},
   "outputs": [
    {
     "data": {
      "text/plain": [
       "[1, 2, 4]"
      ]
     },
     "execution_count": 29,
     "metadata": {},
     "output_type": "execute_result"
    }
   ],
   "source": [
    "a=[1,2,3,4]\n",
    "a.pop(2)\n",
    "a"
   ]
  },
  {
   "cell_type": "code",
   "execution_count": 31,
   "id": "3672068d-2669-44e0-ac38-03e51e095526",
   "metadata": {},
   "outputs": [
    {
     "data": {
      "text/plain": [
       "[4, 3, 2, 1]"
      ]
     },
     "execution_count": 31,
     "metadata": {},
     "output_type": "execute_result"
    }
   ],
   "source": [
    "a=[1,2,3,4]\n",
    "a.reverse()\n",
    "a"
   ]
  },
  {
   "cell_type": "code",
   "execution_count": null,
   "id": "d8539101-ae08-48ba-b7ad-acd9b5e20ed7",
   "metadata": {},
   "outputs": [],
   "source": []
  },
  {
   "cell_type": "code",
   "execution_count": null,
   "id": "bbd9414f-7019-41c5-bf7d-13d985270928",
   "metadata": {},
   "outputs": [],
   "source": []
  },
  {
   "cell_type": "code",
   "execution_count": null,
   "id": "dbebc3ed-a4a2-4524-93c3-a47cc919248e",
   "metadata": {},
   "outputs": [],
   "source": []
  }
 ],
 "metadata": {
  "kernelspec": {
   "display_name": "Python 3 (ipykernel)",
   "language": "python",
   "name": "python3"
  },
  "language_info": {
   "codemirror_mode": {
    "name": "ipython",
    "version": 3
   },
   "file_extension": ".py",
   "mimetype": "text/x-python",
   "name": "python",
   "nbconvert_exporter": "python",
   "pygments_lexer": "ipython3",
   "version": "3.11.7"
  }
 },
 "nbformat": 4,
 "nbformat_minor": 5
}
